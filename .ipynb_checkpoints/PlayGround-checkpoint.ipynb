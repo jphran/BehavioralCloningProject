{
 "cells": [
  {
   "cell_type": "code",
   "execution_count": 14,
   "id": "collected-soundtrack",
   "metadata": {},
   "outputs": [
    {
     "name": "stdout",
     "output_type": "stream",
     "text": [
      "24129\n",
      "24129\n"
     ]
    }
   ],
   "source": [
    "import csv\n",
    "import glob\n",
    "import cv2\n",
    "from dataclasses import dataclass\n",
    "import matplotlib.pyplot as plt\n",
    "import numpy as np\n",
    "\n",
    "@dataclass\n",
    "class DrivingLog:\n",
    "    center: int = 0\n",
    "    left: int = 1\n",
    "    right: int = 2\n",
    "    steering_angle: int = 3\n",
    "    throttle: int = 4\n",
    "    brake: int = 5\n",
    "    speed: int = 6\n",
    "\n",
    "images = []\n",
    "steering_angles = []\n",
    "files = glob.glob('./jData/*/driving_log.csv')\n",
    "for file in files:\n",
    "    with open(file) as csv_file:\n",
    "        reader = csv.reader(csv_file)\n",
    "        for line in reader:\n",
    "            steering_angle = float(line[DrivingLog.steering_angle])\n",
    "            for i in range(3):\n",
    "                img_name = line[i].split('/')[-1]\n",
    "                old_dir = file.split('/')[2]\n",
    "                img_path = f'./jData/{old_dir}/IMG/{img_name}'\n",
    "                img = cv2.cvtColor(cv2.imread(img_path), cv2.COLOR_BGR2RGB)\n",
    "                images.append(img)\n",
    "                steering_angles.append(steering_angle)\n",
    "\n",
    "print(len(images))\n",
    "print(len(steering_angles))\n",
    "\n",
    "X_train = np.array(images)\n",
    "y_train = np.array(steering_angles)"
   ]
  },
  {
   "cell_type": "markdown",
   "id": "completed-viewer",
   "metadata": {},
   "source": [
    "## Crop the image (30 from the bottom, 60 from the top)"
   ]
  },
  {
   "cell_type": "code",
   "execution_count": 10,
   "id": "direct-description",
   "metadata": {},
   "outputs": [],
   "source": [
    "# X_train = X_train[:, 60:-20, :, :]"
   ]
  },
  {
   "cell_type": "code",
   "execution_count": 11,
   "id": "elder-pathology",
   "metadata": {},
   "outputs": [],
   "source": [
    "import tensorflow as tf\n",
    "import keras"
   ]
  },
  {
   "cell_type": "code",
   "execution_count": 15,
   "id": "liked-subscriber",
   "metadata": {},
   "outputs": [
    {
     "name": "stderr",
     "output_type": "stream",
     "text": [
      "/home/jfrancis/anaconda3/envs/BehavioralCloningProject/lib/python3.6/site-packages/ipykernel_launcher.py:16: UserWarning: Update your `Conv2D` call to the Keras 2 API: `Conv2D(24, (5, 5), activation=\"relu\", strides=(2, 2))`\n",
      "  app.launch_new_instance()\n",
      "/home/jfrancis/anaconda3/envs/BehavioralCloningProject/lib/python3.6/site-packages/ipykernel_launcher.py:17: UserWarning: Update your `Conv2D` call to the Keras 2 API: `Conv2D(36, (5, 5), activation=\"relu\", strides=(2, 2))`\n",
      "/home/jfrancis/anaconda3/envs/BehavioralCloningProject/lib/python3.6/site-packages/ipykernel_launcher.py:18: UserWarning: Update your `Conv2D` call to the Keras 2 API: `Conv2D(48, (5, 5), activation=\"relu\", strides=(2, 2))`\n",
      "/home/jfrancis/anaconda3/envs/BehavioralCloningProject/lib/python3.6/site-packages/ipykernel_launcher.py:19: UserWarning: Update your `Conv2D` call to the Keras 2 API: `Conv2D(64, (3, 3), activation=\"relu\")`\n",
      "/home/jfrancis/anaconda3/envs/BehavioralCloningProject/lib/python3.6/site-packages/ipykernel_launcher.py:20: UserWarning: Update your `Conv2D` call to the Keras 2 API: `Conv2D(64, (3, 3), activation=\"relu\")`\n"
     ]
    },
    {
     "name": "stdout",
     "output_type": "stream",
     "text": [
      "Train on 16890 samples, validate on 7239 samples\n",
      "Epoch 1/7\n",
      "16890/16890 [==============================] - 105s - loss: 787.1095 - val_loss: 0.0318\n",
      "Epoch 2/7\n",
      "16890/16890 [==============================] - 105s - loss: 0.0279 - val_loss: 0.0231\n",
      "Epoch 3/7\n",
      "16890/16890 [==============================] - 106s - loss: 0.0191 - val_loss: 0.0157\n",
      "Epoch 4/7\n",
      "16890/16890 [==============================] - 107s - loss: 0.0132 - val_loss: 0.0092\n",
      "Epoch 5/7\n",
      "16890/16890 [==============================] - 107s - loss: 0.0065 - val_loss: 0.0050\n",
      "Epoch 6/7\n",
      "16890/16890 [==============================] - 107s - loss: 0.0049 - val_loss: 0.0043\n",
      "Epoch 7/7\n",
      "16890/16890 [==============================] - 107s - loss: 0.0041 - val_loss: 0.0039\n"
     ]
    }
   ],
   "source": [
    "\n",
    "depth = 6\n",
    "filter_size = 5\n",
    "\n",
    "model = keras.models.Sequential()\n",
    "\n",
    "# model.add(keras.layers.Lambda(lambda x: (x / 255.0) - 0.5, input_shape=(160,320,3)))\n",
    "# model.add(keras.layers.Convolution2D(depth, filter_size, filter_size, activation='relu'))\n",
    "# model.add(keras.layers.MaxPooling2D())\n",
    "# model.add(keras.layers.Convolution2D(depth, filter_size, filter_size,activation='relu'))\n",
    "# model.add(keras.layers.MaxPooling2D())\n",
    "# model.add(keras.layers.Flatten())\n",
    "# model.add(keras.layers.Dense(120))\n",
    "# model.add(keras.layers.Dense(84))\n",
    "# model.add(keras.layers.Dense(1))\n",
    "model.add(keras.layers.Cropping2D(cropping=((60,20),(0,0)), input_shape=X_train.shape[1:]))\n",
    "model.add(keras.layers.Convolution2D(24,5,5,subsample=(2,2),activation='relu'))\n",
    "model.add(keras.layers.Convolution2D(36,5,5,subsample=(2,2),activation='relu'))\n",
    "model.add(keras.layers.Convolution2D(48,5,5,subsample=(2,2),activation='relu'))\n",
    "model.add(keras.layers.Convolution2D(64,3,3,activation='relu'))\n",
    "model.add(keras.layers.Convolution2D(64,3,3,activation='relu'))\n",
    "model.add(keras.layers.Flatten())\n",
    "model.add(keras.layers.Dense(100))\n",
    "model.add(keras.layers.Dense(50))\n",
    "model.add(keras.layers.Dense(10))\n",
    "model.add(keras.layers.Dense(1))\n",
    "\n",
    "model.compile(loss='mse', optimizer='adam')\n",
    "model.fit(X_train, y_train, validation_split=0.3, shuffle=True, nb_epoch=7)\n",
    "\n",
    "# model.save('modelLeNetNoPreProc.h5')\n",
    "model.save('modelNvidia1.h5')"
   ]
  },
  {
   "cell_type": "code",
   "execution_count": null,
   "id": "baking-tanzania",
   "metadata": {},
   "outputs": [],
   "source": []
  },
  {
   "cell_type": "code",
   "execution_count": null,
   "id": "italian-pottery",
   "metadata": {},
   "outputs": [],
   "source": []
  }
 ],
 "metadata": {
  "kernelspec": {
   "display_name": "Python 3",
   "language": "python",
   "name": "python3"
  },
  "language_info": {
   "codemirror_mode": {
    "name": "ipython",
    "version": 3
   },
   "file_extension": ".py",
   "mimetype": "text/x-python",
   "name": "python",
   "nbconvert_exporter": "python",
   "pygments_lexer": "ipython3",
   "version": "3.6.12"
  }
 },
 "nbformat": 4,
 "nbformat_minor": 5
}
